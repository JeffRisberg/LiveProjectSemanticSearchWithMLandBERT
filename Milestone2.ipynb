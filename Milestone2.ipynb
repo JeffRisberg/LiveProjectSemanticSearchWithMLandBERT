{
 "cells": [
  {
   "cell_type": "code",
   "execution_count": 2,
   "metadata": {},
   "outputs": [
    {
     "name": "stdout",
     "output_type": "stream",
     "text": [
      "\u001b[33mDEPRECATION: Configuring installation scheme with distutils config files is deprecated and will no longer work in the near future. If you are using a Homebrew or Linuxbrew Python, please see discussion at https://github.com/Homebrew/homebrew-core/issues/76621\u001b[0m\n",
      "Requirement already satisfied: sentence-transformers in /usr/local/lib/python3.8/site-packages (2.2.0)\n",
      "Requirement already satisfied: scikit-learn in /usr/local/lib/python3.8/site-packages (from sentence-transformers) (1.0.2)\n",
      "Requirement already satisfied: tqdm in /usr/local/lib/python3.8/site-packages (from sentence-transformers) (4.48.2)\n",
      "Requirement already satisfied: torch>=1.6.0 in /usr/local/lib/python3.8/site-packages (from sentence-transformers) (1.11.0)\n",
      "Requirement already satisfied: sentencepiece in /Users/jeff/Library/Python/3.8/lib/python/site-packages (from sentence-transformers) (0.1.91)\n",
      "Requirement already satisfied: numpy in /usr/local/lib/python3.8/site-packages (from sentence-transformers) (1.22.3)\n",
      "Requirement already satisfied: torchvision in /usr/local/lib/python3.8/site-packages (from sentence-transformers) (0.12.0)\n",
      "Requirement already satisfied: nltk in /usr/local/lib/python3.8/site-packages (from sentence-transformers) (3.5)\n",
      "Requirement already satisfied: huggingface-hub in /usr/local/lib/python3.8/site-packages (from sentence-transformers) (0.4.0)\n",
      "Requirement already satisfied: transformers<5.0.0,>=4.6.0 in /usr/local/lib/python3.8/site-packages (from sentence-transformers) (4.17.0)\n",
      "Requirement already satisfied: scipy in /usr/local/lib/python3.8/site-packages (from sentence-transformers) (1.8.0)\n",
      "Requirement already satisfied: typing-extensions in /usr/local/lib/python3.8/site-packages (from torch>=1.6.0->sentence-transformers) (3.7.4.3)\n",
      "Requirement already satisfied: filelock in /Users/jeff/Library/Python/3.8/lib/python/site-packages (from transformers<5.0.0,>=4.6.0->sentence-transformers) (3.0.12)\n",
      "Requirement already satisfied: tokenizers!=0.11.3,>=0.11.1 in /usr/local/lib/python3.8/site-packages (from transformers<5.0.0,>=4.6.0->sentence-transformers) (0.11.5)\n",
      "Requirement already satisfied: pyyaml>=5.1 in /usr/local/lib/python3.8/site-packages (from transformers<5.0.0,>=4.6.0->sentence-transformers) (5.3.1)\n",
      "Requirement already satisfied: sacremoses in /Users/jeff/Library/Python/3.8/lib/python/site-packages (from transformers<5.0.0,>=4.6.0->sentence-transformers) (0.0.43)\n",
      "Requirement already satisfied: regex!=2019.12.17 in /usr/local/lib/python3.8/site-packages (from transformers<5.0.0,>=4.6.0->sentence-transformers) (2020.7.14)\n",
      "Requirement already satisfied: requests in /usr/local/lib/python3.8/site-packages (from transformers<5.0.0,>=4.6.0->sentence-transformers) (2.24.0)\n",
      "Requirement already satisfied: packaging>=20.0 in /usr/local/lib/python3.8/site-packages (from transformers<5.0.0,>=4.6.0->sentence-transformers) (21.3)\n",
      "Requirement already satisfied: pyparsing!=3.0.5,>=2.0.2 in /usr/local/lib/python3.8/site-packages (from packaging>=20.0->transformers<5.0.0,>=4.6.0->sentence-transformers) (2.4.7)\n",
      "Requirement already satisfied: click in /usr/local/lib/python3.8/site-packages (from nltk->sentence-transformers) (7.1.2)\n",
      "Requirement already satisfied: joblib in /usr/local/lib/python3.8/site-packages (from nltk->sentence-transformers) (1.1.0)\n",
      "Requirement already satisfied: certifi>=2017.4.17 in /usr/local/lib/python3.8/site-packages (from requests->transformers<5.0.0,>=4.6.0->sentence-transformers) (2020.6.20)\n",
      "Requirement already satisfied: chardet<4,>=3.0.2 in /usr/local/lib/python3.8/site-packages (from requests->transformers<5.0.0,>=4.6.0->sentence-transformers) (3.0.4)\n",
      "Requirement already satisfied: idna<3,>=2.5 in /usr/local/lib/python3.8/site-packages (from requests->transformers<5.0.0,>=4.6.0->sentence-transformers) (2.10)\n",
      "Requirement already satisfied: urllib3!=1.25.0,!=1.25.1,<1.26,>=1.21.1 in /usr/local/lib/python3.8/site-packages (from requests->transformers<5.0.0,>=4.6.0->sentence-transformers) (1.25.10)\n",
      "Requirement already satisfied: six in /usr/local/lib/python3.8/site-packages (from sacremoses->transformers<5.0.0,>=4.6.0->sentence-transformers) (1.15.0)\n",
      "Requirement already satisfied: threadpoolctl>=2.0.0 in /usr/local/lib/python3.8/site-packages (from scikit-learn->sentence-transformers) (3.1.0)\n",
      "Requirement already satisfied: pillow!=8.3.*,>=5.3.0 in /usr/local/lib/python3.8/site-packages (from torchvision->sentence-transformers) (6.2.2)\n",
      "\u001b[33mDEPRECATION: Configuring installation scheme with distutils config files is deprecated and will no longer work in the near future. If you are using a Homebrew or Linuxbrew Python, please see discussion at https://github.com/Homebrew/homebrew-core/issues/76621\u001b[0m\n",
      "\u001b[33mWARNING: You are using pip version 21.2.4; however, version 22.0.4 is available.\n",
      "You should consider upgrading via the '/usr/local/opt/python@3.8/bin/python3.8 -m pip install --upgrade pip' command.\u001b[0m\n"
     ]
    }
   ],
   "source": [
    "!pip install sentence-transformers"
   ]
  },
  {
   "cell_type": "code",
   "execution_count": 3,
   "metadata": {},
   "outputs": [
    {
     "name": "stderr",
     "output_type": "stream",
     "text": [
      "<frozen importlib._bootstrap>:219: RuntimeWarning: scipy._lib.messagestream.MessageStream size changed, may indicate binary incompatibility. Expected 56 from C header, got 64 from PyObject\n"
     ]
    }
   ],
   "source": [
    "# import dependencies\n",
    "import json\n",
    "import torch\n",
    "import faiss\n",
    "from pprint import pprint\n",
    "import numpy as np\n",
    "from sentence_transformers import SentenceTransformer, util"
   ]
  },
  {
   "cell_type": "markdown",
   "metadata": {},
   "source": [
    "### Load data and preprocess"
   ]
  },
  {
   "cell_type": "code",
   "execution_count": 4,
   "metadata": {},
   "outputs": [],
   "source": [
    "# Load documents from JSON file\n",
    "with open('data/data.json', 'r') as file:\n",
    "    documents = json.load(file)"
   ]
  },
  {
   "cell_type": "code",
   "execution_count": 5,
   "metadata": {},
   "outputs": [],
   "source": [
    "# Load a transformers model\n",
    "embedder = SentenceTransformer('distilbert-base-nli-stsb-mean-tokens')"
   ]
  },
  {
   "cell_type": "code",
   "execution_count": 6,
   "metadata": {},
   "outputs": [
    {
     "data": {
      "text/plain": [
       "(1, 768)"
      ]
     },
     "execution_count": 6,
     "metadata": {},
     "output_type": "execute_result"
    }
   ],
   "source": [
    "x = embedder.encode(['spanish flu'], convert_to_tensor=True)\n",
    "x.numpy().shape"
   ]
  },
  {
   "cell_type": "code",
   "execution_count": 13,
   "metadata": {},
   "outputs": [
    {
     "data": {
      "text/plain": [
       "'A pandemic (from Greek πᾶν, pan, \"all\" and δῆμος, demos, \"people\") is an epidemic of an infectious disease that has spread across a large region, for instance multiple continents or worldwide, affecting a substantial number of people. A widespread endemic disease with a stable number of infected people is not a pandemic. Widespread endemic diseases with a stable number of infected people such as recurrences of seasonal influenza are generally excluded as they occur simultaneously in large regions of the globe rather than being spread worldwide.\\nThroughout human history, there have been a number of pandemics of diseases such as smallpox and tuberculosis. The most fatal pandemic in recorded history was the Black Death (also known as The Plague), which killed an estimated 75–200 million people in the 14th century. The term was not used yet but was for later pandemics including the 1918 influenza pandemic (Spanish flu). Current pandemics include COVID-19 (SARS-CoV-2) and HIV/AIDS.'"
      ]
     },
     "execution_count": 13,
     "metadata": {},
     "output_type": "execute_result"
    }
   ],
   "source": [
    "# Compute sentence embeddings for every text in the documents\n",
    "corpus = [d['text'] for d in documents]\n",
    "corpus[0]"
   ]
  },
  {
   "cell_type": "code",
   "execution_count": 7,
   "metadata": {},
   "outputs": [],
   "source": [
    "corpus_embeddings = embedder.encode(corpus, convert_to_tensor=True)"
   ]
  },
  {
   "cell_type": "code",
   "execution_count": 14,
   "metadata": {},
   "outputs": [
    {
     "data": {
      "text/plain": [
       "tensor([ 2.9952e-01, -7.0211e-01, -4.3361e-01, -1.9087e-02, -2.4387e-01,\n",
       "         5.7081e-01,  8.7062e-02, -3.7161e-01, -1.4103e-01, -1.0819e+00,\n",
       "         1.6249e-01, -3.7736e-01, -1.0932e+00,  3.5094e-01,  5.4796e-01,\n",
       "         1.2615e-02,  7.2166e-01,  2.2545e-01, -4.9946e-01,  1.9949e-01,\n",
       "        -4.7665e-01,  1.0053e-01,  2.1273e-01,  2.6754e-01, -1.4378e+00,\n",
       "        -7.9652e-02,  2.4992e-01, -4.7607e-02,  1.0231e+00, -5.2525e-01,\n",
       "         4.1967e-01,  3.4385e-01, -1.5538e-01, -9.8291e-01, -4.6316e-01,\n",
       "        -1.3336e-01, -1.5561e-01,  7.5304e-01,  1.2626e-01,  1.3102e-01,\n",
       "         2.9170e-02, -6.4067e-01, -6.7099e-02, -3.7497e-01,  1.3653e-01,\n",
       "         4.2604e-01, -4.8826e-01,  6.3649e-01, -2.8571e-01,  2.3233e-01,\n",
       "        -1.3344e-02, -9.8263e-01,  7.5536e-01,  1.2606e+00,  1.9006e-01,\n",
       "         2.3629e-01, -5.4619e-01,  2.9539e-01, -5.9843e-01,  2.0578e-01,\n",
       "        -3.1807e-01, -6.9939e-01, -4.4655e-01, -2.5983e-02,  3.0219e-01,\n",
       "        -3.6411e-01, -6.5929e-01,  6.9335e-01,  6.5487e-01, -4.8048e-01,\n",
       "        -7.8673e-03,  2.7145e-02, -2.9325e-01,  8.9181e-01,  3.1157e-02,\n",
       "        -8.0550e-01,  5.4875e-01, -2.2644e-01, -1.2542e+00,  1.1645e-01,\n",
       "        -2.1713e-01, -4.8104e-01, -4.8672e-01, -3.6111e-01,  6.1728e-02,\n",
       "         1.1080e-01,  7.8963e-01,  1.8330e-03, -1.0666e-01, -3.6266e-01,\n",
       "         9.6131e-04, -3.8853e-02,  1.1607e+00, -5.0786e-01,  5.9860e-01,\n",
       "        -2.3213e-01,  1.6058e-01, -2.3865e-01, -2.8964e-01, -2.9941e-01,\n",
       "        -3.7921e-01,  7.9924e-02, -1.0146e-01, -6.9200e-01, -6.6507e-01,\n",
       "        -6.6450e-01,  1.1633e+00,  3.0751e-01, -3.2834e-01,  4.0943e-01,\n",
       "        -3.7015e-01, -1.4306e-01, -6.6601e-01, -1.0066e+00, -4.0678e-01,\n",
       "        -9.7243e-01, -1.2119e-01,  1.9187e-01, -4.0596e-01, -4.1030e-01,\n",
       "         1.0535e+00,  8.2858e-01,  1.0819e+00,  1.1234e-02, -2.0149e-01,\n",
       "        -1.8926e-01, -3.4458e-01, -1.0716e-02,  8.6034e-01, -1.8300e-01,\n",
       "         1.8079e-01,  1.5210e-01, -7.1106e-01, -4.3798e-01,  4.2899e-01,\n",
       "         2.0427e-02, -5.7447e-01,  4.9963e-01,  2.8133e-01, -9.2967e-01,\n",
       "         4.1810e-01, -2.2915e-01,  5.6498e-01, -6.8993e-02, -9.0270e-01,\n",
       "        -3.3077e-01,  3.7237e-02, -1.0755e+00,  1.3864e-01, -6.1421e-01,\n",
       "        -2.7769e-01, -9.1593e-02,  7.2842e-01, -5.0981e-01, -1.8693e-01,\n",
       "        -2.0237e-01,  1.0013e-02,  3.2952e-01, -1.0040e-01, -1.7836e-01,\n",
       "        -4.3428e-03, -5.1207e-01,  1.1839e-01,  3.0806e-02,  6.5762e-01,\n",
       "         4.9571e-01,  4.8600e-01,  6.9607e-01,  2.0614e-01, -4.4163e-01,\n",
       "         1.8739e-02, -5.4625e-01, -7.2685e-02,  2.4614e-01,  4.4414e-01,\n",
       "        -6.2460e-01,  2.6362e-01,  6.1316e-01, -4.4070e-01, -3.3974e-01,\n",
       "         5.3520e-02, -6.6620e-01, -7.5127e-02, -4.0074e-01,  4.0702e-01,\n",
       "         1.5230e-01,  1.1328e-01,  5.8515e-01,  5.9348e-01, -1.8321e-01,\n",
       "         1.5407e-01, -4.4759e-01, -1.5457e-01, -2.3011e-01, -1.5754e-01,\n",
       "        -2.1550e-01, -5.1135e-01,  2.6998e-02,  8.5794e-01,  7.1149e-02,\n",
       "         6.9553e-02, -8.5294e-01, -2.6727e-01,  1.0063e-01, -2.8657e-01,\n",
       "        -3.7308e-01, -3.2904e-02, -7.4229e-02, -2.8272e-02, -8.2428e-03,\n",
       "        -6.1987e-01, -4.7601e-01,  9.7639e-02, -6.3432e-01, -6.8238e-02,\n",
       "         2.3376e-01,  8.6750e-01,  1.8043e-01,  1.4157e-01,  5.6129e-01,\n",
       "         1.1678e+00, -6.8748e-01,  3.7672e-01,  3.0854e-01,  7.0915e-01,\n",
       "         1.1240e-01,  1.9910e-01, -6.0296e-01,  4.7114e-01, -1.4220e-01,\n",
       "        -8.8801e-02, -4.4492e-01,  2.5078e-01, -3.2855e-02,  1.6802e-01,\n",
       "         3.2065e-02, -5.9337e-02, -6.4447e-01, -4.1578e-01, -6.7926e-01,\n",
       "        -1.0215e-01,  4.8966e-02, -1.6806e-01,  4.4080e-04, -5.0671e-01,\n",
       "         2.3897e-01, -3.0942e-01, -8.6405e-01,  6.1022e-01,  2.9553e-01,\n",
       "        -2.7164e-01, -1.4196e-01,  6.4308e-01, -1.0057e+00,  2.5856e-01,\n",
       "        -7.3473e-01,  8.2087e-02, -7.6430e-01,  8.0589e-02, -7.9300e-02,\n",
       "        -1.7581e-01, -9.3242e-01,  2.5485e-01,  3.5789e-01, -3.0532e-01,\n",
       "        -1.2950e+00,  2.7815e-01,  2.8234e-01, -7.0047e-01,  1.5910e-01,\n",
       "         1.3496e+00, -4.6971e-01, -2.6304e-01, -1.0634e+00,  8.1823e-01,\n",
       "        -1.5499e-01,  5.1405e-02, -6.2356e-01,  8.3740e-02,  5.1511e-02,\n",
       "         1.0473e-01,  5.0489e-01,  1.4390e-01,  1.8986e-01,  8.1478e-03,\n",
       "        -5.4111e-01,  7.2257e-01, -3.3209e-01,  8.7276e-01,  7.4563e-01,\n",
       "        -3.5631e-02,  4.0108e-01, -5.6587e-01,  1.5339e-01,  7.1676e-01,\n",
       "         1.8334e-01, -3.5081e-01,  4.8210e-01,  1.5574e-01, -8.0949e-01,\n",
       "        -1.0443e+00,  1.0186e-01, -4.5950e-01,  1.1896e-01,  2.3135e-02,\n",
       "        -7.8484e-01,  1.9097e-01, -3.5921e-01, -2.7806e-01,  6.5507e-03,\n",
       "        -1.2528e-01,  5.3918e-02,  2.8948e-01,  2.4194e-01, -7.2353e-02,\n",
       "        -1.2806e-01,  9.4155e-01,  4.0033e-01,  1.7295e-01, -6.8285e-02,\n",
       "         2.1456e-01,  4.0296e-01, -1.6947e-01,  3.7542e-02, -6.7082e-01,\n",
       "         4.0136e-02, -5.2993e-01, -4.5505e-01,  1.4674e-01,  1.6534e-01,\n",
       "        -1.3097e-01,  1.3466e-03, -4.3502e-02, -9.4081e-01, -2.1746e-01,\n",
       "         2.9421e-01, -2.3245e-01, -1.2249e-01, -3.4361e-01, -9.3907e-01,\n",
       "         2.5892e-01,  3.1114e-01,  4.7240e-01,  1.3644e-01, -3.8614e-01,\n",
       "        -5.0212e-01, -5.9355e-01, -7.2519e-01, -5.5878e-01, -5.8390e-02,\n",
       "        -2.2044e-01, -1.0545e+00, -3.1920e-01,  4.3680e-02,  3.1604e-01,\n",
       "         4.2106e-01, -4.8303e-02,  4.9585e-01,  9.1223e-01,  4.7423e-02,\n",
       "        -3.5820e-01,  5.2173e-01, -4.3408e-01, -2.2696e-01,  5.9275e-01,\n",
       "        -3.3267e-02, -1.4702e-02, -5.3500e-01, -5.7799e-02,  5.3801e-01,\n",
       "        -5.7073e-01,  2.2853e-01,  4.1749e-01,  3.7463e-01,  2.8291e-01,\n",
       "         3.8752e-01,  6.7501e-01, -7.9393e-01, -1.5333e-01, -1.3960e-01,\n",
       "         1.3846e-01,  5.6933e-02, -3.4484e-01, -4.7600e-01, -1.9303e-01,\n",
       "        -6.8927e-01, -1.5955e-01,  8.5660e-02,  4.3667e-02,  3.2235e-01,\n",
       "         7.7234e-01, -4.0830e-02,  2.0940e-01,  1.6177e-01, -1.7193e-01,\n",
       "        -9.4216e-02, -3.6804e-01,  4.6853e-01,  5.7409e-01, -1.0523e-01,\n",
       "        -2.3241e-01, -8.0067e-01,  3.2082e-02,  9.1179e-01, -5.8629e-01,\n",
       "         5.1808e-01,  2.2108e-01, -1.6017e-01,  9.6598e-02,  3.7026e-01,\n",
       "        -2.5088e-01,  4.3983e-01,  5.0374e-01,  7.2665e-01, -5.7409e-01,\n",
       "         2.7209e-01,  1.2430e-01, -1.2331e+00,  2.6973e-01, -3.3624e-01,\n",
       "         9.6611e-01, -5.3675e-01,  8.4085e-01,  1.5176e-01, -1.8389e-01,\n",
       "        -5.3770e-02, -1.2561e-01, -9.1157e-02, -1.2608e-01,  7.9502e-01,\n",
       "        -1.2503e+00,  6.9419e-01, -1.1605e+00,  6.6921e-02, -3.9682e-01,\n",
       "        -1.6045e-01, -2.5541e-01, -2.4338e-01,  2.6174e-01, -2.4452e-01,\n",
       "        -9.5377e-01,  8.1800e-01,  4.2678e-01, -5.3147e-02,  2.9702e-01,\n",
       "         9.4069e-01,  1.7528e-01,  1.0134e+00, -2.1916e-01,  5.7607e-01,\n",
       "         1.6157e-01,  9.3023e-02, -6.3876e-01, -4.6133e-01, -4.7320e-02,\n",
       "        -1.0564e-01, -5.1931e-01, -1.8138e-01,  8.9212e-01,  4.4656e-01,\n",
       "         1.0418e-01, -7.3860e-02, -6.6856e-01, -1.0543e-01, -2.2616e-01,\n",
       "        -8.2356e-01, -3.6226e-01,  1.5206e-02,  3.5004e-01, -2.6591e-01,\n",
       "        -6.0481e-01, -1.9606e-01,  4.3335e-01, -4.6015e-02, -9.6540e-01,\n",
       "         2.9221e-01, -2.3294e-01, -6.2680e-01,  6.2418e-01, -1.8625e-03,\n",
       "         1.0516e-01,  1.7959e-01, -4.3208e-02,  3.0373e-01,  2.9851e-01,\n",
       "         2.9732e-01, -1.8088e+00, -1.1651e-01, -1.9801e-01, -8.0698e-01,\n",
       "        -5.9773e-01, -1.2143e-01,  2.1174e-01,  4.1457e-01,  6.8010e-01,\n",
       "         6.7365e-01, -1.9095e-01,  2.7057e-01,  5.0864e-01,  1.1136e-01,\n",
       "        -3.5055e-01, -2.0561e-01,  3.3907e-01, -2.9079e-01, -2.5030e-02,\n",
       "         3.7884e-01, -1.9463e-01,  4.7774e-02, -5.2335e-01,  1.5285e-01,\n",
       "        -9.3738e-02, -4.0857e-01, -6.6589e-01, -6.2645e-01, -1.1102e-01,\n",
       "         1.4282e-01, -2.6798e-01,  1.3226e+00, -7.6837e-01,  3.8348e-01,\n",
       "        -4.6381e-01, -2.5172e-02, -1.9116e-01,  4.9065e-01, -1.5098e-01,\n",
       "        -6.2025e-02,  3.1853e-01, -6.4705e-01,  1.2486e+00,  2.2723e-01,\n",
       "         4.9995e-01, -4.2744e-01, -3.7400e-01,  7.4252e-01,  9.3893e-01,\n",
       "        -3.2924e-01,  7.4165e-01, -3.0718e-01,  5.0145e-02, -5.7485e-01,\n",
       "        -3.8865e-01,  6.5110e-01,  1.6615e-01, -6.5550e-01,  7.1450e-02,\n",
       "        -7.2948e-01,  7.0152e-01,  3.5285e-01, -7.7142e-01, -1.0121e-02,\n",
       "        -1.1336e+00, -4.3109e-01,  3.1000e-01,  7.4200e-02,  4.5096e-01,\n",
       "        -7.2312e-01, -6.2036e-01, -8.0933e-01, -1.2096e-01,  6.2957e-01,\n",
       "         7.0022e-01,  2.1028e-01,  1.0659e-01,  2.2160e-01, -4.4051e-01,\n",
       "        -3.1748e-01, -2.9137e-01, -4.6085e-01,  1.8829e-01, -3.6983e-01,\n",
       "        -7.1766e-01, -2.7454e-01, -3.0949e-01,  5.0387e-01, -2.3314e-01,\n",
       "        -2.0990e-02, -1.4285e-01,  1.8401e-01,  7.6111e-01, -5.8297e-02,\n",
       "        -1.2340e-01,  6.5425e-01,  4.0174e-01,  2.9702e-01,  1.9885e-01,\n",
       "         3.5832e-02,  1.2000e-01, -4.2081e-01, -2.1406e-01, -8.7742e-01,\n",
       "         7.6759e-01,  1.1475e-01, -1.6447e-01, -4.4121e-01,  2.0479e-01,\n",
       "        -1.1891e+00,  2.3396e-01, -5.3438e-02,  2.6969e-01, -3.2446e-01,\n",
       "        -5.6271e-02, -3.7349e-01,  2.0127e-01, -8.0309e-01,  2.3189e-01,\n",
       "         7.3869e-02,  2.1120e-01, -3.9741e-01, -2.3530e-01, -8.7996e-01,\n",
       "         5.5273e-02, -1.4135e-01,  3.2765e-01, -2.7190e-02, -1.2943e-01,\n",
       "         3.6046e-01, -5.0611e-01,  1.6332e-01,  3.0019e-01, -1.4460e-01,\n",
       "         3.6829e-02,  2.4242e-01, -6.0773e-01,  5.0458e-01,  2.5496e-01,\n",
       "         6.0804e-01,  7.8403e-01,  1.4838e-01, -4.0835e-01,  2.7998e-01,\n",
       "         5.8159e-02, -5.2883e-01, -4.9667e-01,  4.8389e-01, -4.4776e-01,\n",
       "         1.0953e+00, -9.1968e-01,  7.5956e-01,  4.9959e-01,  1.6773e-01,\n",
       "        -2.7884e-01, -3.8418e-01, -1.5236e-01, -1.0464e-01,  3.9520e-01,\n",
       "         1.7822e-01,  8.0954e-02,  1.3378e-02,  3.1479e-01, -1.1781e-01,\n",
       "         4.4167e-01,  5.3453e-01,  6.2862e-01,  1.1933e-01,  1.7487e-01,\n",
       "        -1.8583e-01,  3.4350e-01, -5.5398e-02, -1.1168e-01, -2.2291e-01,\n",
       "        -7.2631e-01,  3.7930e-01, -6.9290e-01, -1.1062e-01,  2.6731e-02,\n",
       "         1.8803e-01,  1.2842e+00,  1.2817e-01,  5.8457e-01,  6.4412e-01,\n",
       "        -7.1711e-02,  2.9139e-01, -1.7059e-01, -5.3599e-02,  4.0971e-01,\n",
       "         6.0755e-01,  1.6248e-01,  3.0327e-01,  2.7295e-01, -6.2831e-01,\n",
       "        -3.1198e-01, -1.3774e-02,  4.9669e-01,  2.9988e-01,  6.6542e-02,\n",
       "         2.4116e-01,  8.8020e-02, -9.6039e-01, -3.4190e-02, -4.4777e-01,\n",
       "        -2.3403e-02, -2.3042e-01, -3.1900e-01,  4.1116e-01, -3.7271e-01,\n",
       "         9.4720e-02, -1.0217e-01,  9.3654e-01, -7.7387e-02, -4.9808e-01,\n",
       "        -1.9481e-01, -4.6383e-01, -6.2007e-01, -5.9287e-01,  4.9201e-01,\n",
       "        -2.1132e-01,  2.2880e-01, -2.6261e-01,  1.8772e-02,  3.5097e-01,\n",
       "         2.9939e-01, -3.4101e-01,  1.6886e-01,  3.4032e-01,  4.3713e-01,\n",
       "        -3.4447e-01, -7.4689e-01,  6.0848e-01,  1.3491e-01, -2.4863e-01,\n",
       "        -3.9297e-01,  1.4920e-01,  2.7163e-01,  1.5022e+00,  4.3429e-01,\n",
       "         6.5158e-01, -4.9468e-01,  8.6775e-01, -3.5689e-02, -2.9924e-01,\n",
       "         6.2438e-01, -4.5398e-01,  2.3235e-01,  1.6002e-01,  2.3353e-01,\n",
       "         5.2561e-01, -2.7158e-01,  1.3037e+00, -5.1440e-01,  7.5142e-01,\n",
       "        -1.0249e+00, -6.7568e-01, -6.6896e-01,  2.2495e-01,  2.0509e-01,\n",
       "        -2.3781e-01,  7.6147e-01, -1.0690e-01, -6.0077e-01,  4.7211e-01,\n",
       "        -4.1076e-03,  3.0521e-02, -8.1950e-02,  4.0883e-01, -1.0351e-01,\n",
       "         6.8062e-01, -9.4168e-01,  8.3685e-02,  1.6999e-01,  2.1833e-01,\n",
       "        -3.0136e-01,  5.0828e-01,  4.6237e-01,  5.8756e-01,  3.7368e-01,\n",
       "         3.7385e-02, -2.2735e-01, -1.6537e-01])"
      ]
     },
     "execution_count": 14,
     "metadata": {},
     "output_type": "execute_result"
    }
   ],
   "source": [
    "## move the tensor data to CPU for the FAISS index to work\n",
    "corpus_embeddings = corpus_embeddings.cpu()\n",
    "corpus_embeddings[0]"
   ]
  },
  {
   "cell_type": "code",
   "execution_count": 15,
   "metadata": {},
   "outputs": [
    {
     "data": {
      "text/plain": [
       "tensor([ 7.3829e-01, -3.7307e-01,  3.8709e-01,  4.6272e-01,  1.8671e-01,\n",
       "        -5.3994e-01,  4.9802e-01, -7.1573e-02,  3.6149e-01, -5.1980e-02,\n",
       "         7.1352e-01,  3.0133e-02, -1.2299e+00,  8.9091e-01,  1.4684e-01,\n",
       "         7.7680e-02,  1.1512e-01,  3.9175e-01,  2.3867e-01, -1.6696e-01,\n",
       "        -3.0103e-01,  8.3501e-02,  1.5501e-01,  1.6569e-01, -5.2334e-01,\n",
       "        -7.6129e-01,  5.0878e-01,  2.4885e-01,  1.4092e+00, -5.9079e-01,\n",
       "         2.4068e-01, -3.6413e-01, -2.4202e-02, -6.5462e-01, -1.0830e-01,\n",
       "        -6.7298e-02, -4.0739e-01,  2.2640e-02, -3.2402e-01, -3.7856e-01,\n",
       "        -1.5790e-01, -2.4392e-01, -1.1966e-01, -1.2017e-01, -1.9109e-01,\n",
       "        -2.7295e-01,  6.1089e-01,  8.0647e-01,  6.0772e-02,  5.6018e-01,\n",
       "         3.9073e-01, -7.6066e-01,  3.9909e-01, -1.4104e-01,  2.5068e-01,\n",
       "        -1.0269e-01, -1.5311e-01, -1.0042e+00,  3.1872e-01,  3.3264e-01,\n",
       "        -2.5117e-01, -7.8069e-01,  1.5139e-01,  3.4694e-02,  1.0009e+00,\n",
       "        -2.9685e-01, -7.1686e-01,  4.0429e-01, -1.0124e-01, -9.4261e-01,\n",
       "         7.4911e-01, -5.5707e-01, -2.3147e-01,  3.2119e-01, -8.6964e-02,\n",
       "        -3.8739e-01,  6.3115e-02, -7.6776e-01,  2.1129e-01, -1.5373e-01,\n",
       "        -1.1045e+00, -3.6923e-01, -4.5878e-01,  3.1900e-01, -1.5063e-01,\n",
       "        -9.4119e-02,  9.8059e-01,  2.1079e-01, -8.0855e-01, -5.4412e-01,\n",
       "         3.7442e-01,  2.1758e-02,  9.3694e-01, -3.2762e-01,  9.6930e-01,\n",
       "        -4.4668e-01,  1.6425e-01, -1.5988e-01, -1.3934e+00, -3.2453e-01,\n",
       "        -1.2393e+00,  4.3682e-01, -4.6663e-01, -1.7559e-01,  1.2217e-01,\n",
       "         2.3293e-01, -2.5611e-02,  2.4790e-01, -7.1285e-01,  2.5623e-01,\n",
       "         1.9463e-01, -4.0559e-01, -7.8666e-01, -7.4971e-01, -9.0157e-01,\n",
       "        -3.1141e-01,  9.7131e-01, -3.3642e-01, -4.2927e-01, -2.9876e-01,\n",
       "         3.4047e-01,  9.5715e-01,  5.4637e-01, -3.2333e-01,  5.6347e-01,\n",
       "        -1.0614e+00, -1.1283e+00,  4.7297e-01,  5.9696e-01,  3.3733e-01,\n",
       "         5.8744e-01,  5.9344e-01, -3.7424e-01, -2.4271e-01,  4.6368e-02,\n",
       "         2.7079e-01, -4.7850e-01,  4.0629e-01,  2.0918e-01, -9.0676e-01,\n",
       "        -9.7648e-02, -6.5778e-01,  3.4636e-01,  1.5607e-02, -8.1240e-01,\n",
       "        -3.0185e-01, -9.5656e-01, -7.1201e-01, -7.6297e-01, -7.3160e-01,\n",
       "        -6.8863e-01, -4.6823e-01,  1.4590e-01, -3.4528e-01,  2.9815e-01,\n",
       "        -1.8426e-01, -5.9342e-01,  3.9701e-02,  4.8122e-01,  4.8743e-01,\n",
       "        -7.0078e-01,  8.1501e-02,  2.6312e-01, -2.2356e-01, -1.2374e-01,\n",
       "        -4.2578e-01,  2.8832e-01,  2.2022e-01, -1.8279e-01, -4.3940e-01,\n",
       "        -1.1414e-01,  1.8728e-01, -1.1846e-01, -3.2238e-01,  4.1527e-01,\n",
       "        -3.2556e-01,  8.5523e-01, -5.6785e-01,  1.8407e-02,  2.9113e-01,\n",
       "        -3.4755e-01, -1.4646e-01, -1.5089e-01, -9.5858e-03,  3.1105e-01,\n",
       "         8.3457e-03,  6.3597e-01,  1.3838e+00,  7.1868e-02,  3.0413e-02,\n",
       "         3.4846e-01,  4.0030e-01, -5.5672e-02,  5.5626e-01, -1.7172e-01,\n",
       "         5.1264e-01, -1.2206e+00,  6.8619e-01,  7.5280e-01, -6.5219e-02,\n",
       "         5.3148e-01, -3.1777e-01, -1.7945e-01, -3.5660e-01, -3.1834e-01,\n",
       "        -6.5822e-01,  5.1761e-01, -1.2160e-01,  2.5880e-01, -5.8839e-02,\n",
       "        -7.9316e-01,  6.8193e-02, -3.4873e-01, -1.1515e+00, -5.1827e-02,\n",
       "         2.4403e-01, -2.7646e-01, -1.9358e-01,  2.6435e-01, -5.9299e-02,\n",
       "         1.0539e+00, -3.8705e-01,  1.8442e-01, -2.1487e-01, -4.1940e-01,\n",
       "         3.2653e-01, -6.8707e-02, -6.6944e-01,  8.5641e-01, -2.0946e-01,\n",
       "        -4.8788e-02, -5.2037e-01,  2.7625e-01,  3.6404e-02,  6.5516e-01,\n",
       "        -3.0037e-02, -8.5783e-02, -3.1030e-01,  8.2786e-02, -6.7385e-03,\n",
       "         3.2734e-01,  1.6865e-01, -2.4399e-01, -5.4021e-01, -3.0964e-01,\n",
       "        -2.6185e-01, -1.3367e-01, -7.1539e-02, -1.8162e-01,  1.6634e-01,\n",
       "         1.1458e+00, -5.1719e-01,  4.0424e-01,  1.2867e-03,  7.2025e-01,\n",
       "        -9.8597e-01,  1.0848e-01, -8.6163e-01,  4.5577e-01,  5.4604e-01,\n",
       "        -6.0688e-01, -1.0854e+00, -1.2603e-02,  2.1177e-01, -1.7695e-01,\n",
       "        -2.9640e-01,  3.3408e-03,  2.1544e-01, -1.0114e-01, -2.6367e-01,\n",
       "         5.0157e-01, -4.1664e-01, -1.9134e-02, -3.3887e-01,  6.3259e-01,\n",
       "         1.0901e-01,  9.1759e-01,  2.7849e-02,  2.8712e-01, -1.8520e-02,\n",
       "         1.4614e-02,  1.4378e-01,  4.3777e-01, -7.6397e-01,  2.6933e-01,\n",
       "        -5.6009e-01,  4.5668e-01,  3.9580e-01,  6.8400e-01,  1.0690e-01,\n",
       "        -6.0434e-01,  4.6186e-01,  1.2801e-01,  5.8675e-02, -3.0748e-01,\n",
       "        -6.1195e-01,  4.3354e-01, -3.8610e-01,  3.2644e-01, -2.1692e-01,\n",
       "        -1.1646e+00, -1.0444e-01, -5.0803e-01, -9.5602e-02, -1.4297e-01,\n",
       "        -2.7608e-01,  6.3348e-01,  2.1892e-02, -1.9415e-01, -1.7341e-01,\n",
       "         1.7285e-01,  4.3183e-01, -2.1765e-01, -1.6672e-01, -1.0732e-01,\n",
       "         5.2507e-01, -2.3313e-01,  2.2324e-01, -2.1530e-01, -1.2024e+00,\n",
       "         8.6241e-01, -1.4309e-01,  4.8480e-01,  1.4239e-01, -5.7895e-01,\n",
       "        -1.2942e-01,  5.4566e-02,  1.5589e-02, -7.2940e-03,  1.0336e-01,\n",
       "         3.9057e-01, -5.4085e-01,  2.3300e-01, -3.3729e-01, -3.4873e-01,\n",
       "         3.9287e-01,  4.9684e-01,  5.7627e-01, -1.3717e-01, -1.1221e+00,\n",
       "        -7.5235e-01,  3.7642e-01,  3.2554e-01,  3.5545e-01, -4.3850e-01,\n",
       "        -8.2474e-01, -2.2127e-01, -7.3943e-01, -3.5681e-02, -4.1792e-01,\n",
       "        -8.9780e-02, -7.3046e-01, -4.6457e-01,  5.3451e-02, -4.0784e-02,\n",
       "         3.4940e-01, -4.9062e-01,  6.7886e-01,  8.7619e-01,  1.1605e-01,\n",
       "         7.2381e-01,  6.6749e-01,  1.1965e-01, -4.0618e-01,  3.9852e-01,\n",
       "        -2.5002e-02, -4.7837e-01, -2.2081e-02,  6.8966e-01, -3.3107e-01,\n",
       "         8.6901e-03,  2.6589e-01,  4.7738e-01,  6.8756e-01, -3.9665e-01,\n",
       "         4.9913e-01,  6.8467e-01, -2.2287e-01,  4.5014e-01, -3.2833e-01,\n",
       "        -6.3063e-01,  2.0253e-01, -5.5503e-01,  2.5986e-01, -2.1552e-01,\n",
       "        -7.5324e-01,  1.8754e-01,  2.3817e-01, -1.0408e-01,  3.7214e-01,\n",
       "        -4.4779e-01, -2.1678e-01,  3.2660e-01, -1.0506e+00,  4.5658e-01,\n",
       "         4.0941e-01, -2.7910e-01,  6.8360e-02,  4.7310e-02, -9.0043e-02,\n",
       "        -2.7477e-01, -7.0036e-01,  4.1535e-01, -2.1820e-01,  3.8693e-01,\n",
       "         8.2989e-01,  1.3096e-01, -1.7191e-01,  5.1827e-01, -2.0938e-01,\n",
       "         4.4577e-01, -1.0833e-01,  1.1190e-01,  3.2789e-01, -8.1586e-01,\n",
       "         2.9361e-01,  3.5154e-01, -4.8945e-01, -7.6256e-01, -6.8818e-02,\n",
       "         1.0760e-01, -2.7440e-01,  9.8898e-01,  2.9982e-01, -1.6169e-01,\n",
       "         4.8875e-01, -1.1336e-01, -2.3489e-01,  8.7977e-03,  7.7688e-01,\n",
       "        -4.1857e-01,  4.3824e-01,  4.0831e-02,  1.3544e-01,  2.3775e-01,\n",
       "         6.2175e-01, -2.9743e-01, -3.1018e-01,  1.3062e-01,  5.3592e-01,\n",
       "        -1.1973e+00,  7.5523e-01,  9.0028e-01,  1.4699e+00, -7.0029e-01,\n",
       "         3.0352e-01, -1.7956e-01,  3.1909e-01,  2.7386e-01,  1.1956e-01,\n",
       "        -3.7965e-02, -1.5577e-01, -4.8780e-01, -5.8134e-01,  3.6069e-01,\n",
       "        -6.2091e-01, -1.0307e+00, -6.7439e-02,  6.1496e-02,  5.9708e-01,\n",
       "        -3.4295e-01, -3.7833e-01, -1.0400e-01,  1.7437e-01, -2.6702e-01,\n",
       "        -4.3122e-01, -3.9845e-02, -5.2403e-02,  5.3261e-02,  5.5261e-02,\n",
       "        -1.6144e-01, -3.6768e-01, -6.1014e-01, -2.7861e-02, -4.6581e-01,\n",
       "        -9.3351e-02, -4.7825e-01,  2.0548e-01, -7.0717e-02, -6.7703e-01,\n",
       "         5.1168e-01, -1.0005e-01,  1.5398e-01,  2.7742e-01,  3.8705e-01,\n",
       "        -4.2548e-01, -1.0321e+00, -2.0725e-01,  6.0595e-02, -5.4711e-01,\n",
       "        -1.6744e-01, -1.0241e-01,  2.3312e-01,  5.6724e-01,  6.3810e-01,\n",
       "         3.0707e-02, -6.9187e-01,  1.7459e-01, -7.0759e-01,  5.1143e-01,\n",
       "         3.8873e-01, -1.6464e-01, -2.6305e-01, -7.8250e-02,  1.1934e-01,\n",
       "         1.7965e-01, -1.6408e-01,  2.7180e-01, -9.2647e-02,  1.2363e-01,\n",
       "        -9.3012e-02, -9.1992e-01,  6.6120e-02, -4.2186e-01, -2.4851e-01,\n",
       "         9.9500e-02, -1.0920e-01,  1.1551e+00, -4.2765e-01,  2.5272e-01,\n",
       "        -4.4963e-02, -3.7882e-01, -4.5793e-02,  2.9310e-01, -1.5663e-01,\n",
       "         1.2693e-01, -1.6626e-01, -1.5057e-01,  5.2485e-01, -8.7443e-02,\n",
       "         1.2976e+00, -3.7693e-01,  1.7893e-02,  9.4538e-02,  4.1028e-01,\n",
       "         1.5617e-01,  1.6835e-01, -3.8913e-01,  1.2637e-01, -9.3928e-01,\n",
       "        -3.4459e-01, -3.3102e-01, -1.3280e+00,  4.6616e-02, -2.4887e-01,\n",
       "        -8.8681e-01,  7.3852e-02,  8.8502e-01, -1.3208e-01,  4.3744e-01,\n",
       "        -1.0057e+00,  3.6916e-02,  7.6795e-01,  5.4701e-01,  3.3996e-02,\n",
       "        -1.1153e-01, -7.1912e-01, -5.4452e-01,  1.0478e-01,  2.9906e-01,\n",
       "        -2.4947e-01,  9.4508e-01,  7.5447e-01,  8.9065e-01,  1.8315e-01,\n",
       "        -2.6904e-01, -2.7561e-01, -5.0788e-01, -3.3776e-02, -1.2224e-01,\n",
       "        -9.2295e-01, -4.3157e-01, -1.7878e-03, -7.7251e-01, -9.9499e-02,\n",
       "        -9.5772e-03, -3.4548e-01, -1.1838e-01, -9.0258e-02,  2.3780e-01,\n",
       "        -9.5965e-02,  8.4535e-01,  1.4293e-01,  7.2758e-01, -5.0548e-01,\n",
       "         5.4788e-01,  1.3574e-01,  1.8290e-01, -5.1372e-01, -2.4174e-01,\n",
       "         4.5165e-01, -6.7382e-01, -6.0196e-01,  1.5192e-02,  6.2203e-01,\n",
       "        -1.0798e+00,  6.9929e-01,  1.0205e-01,  5.0575e-02, -5.5603e-01,\n",
       "         1.2037e-01, -7.5537e-01, -6.7434e-02, -7.2521e-01, -9.8048e-02,\n",
       "         2.7993e-01,  9.2001e-01, -2.1875e-01, -6.7615e-02,  2.4915e-01,\n",
       "         4.2195e-01, -6.1631e-02,  3.6339e-01,  7.2998e-01, -2.3780e-01,\n",
       "         4.7360e-01, -8.2719e-01, -4.9077e-01, -4.8428e-01, -2.2322e-01,\n",
       "        -2.0350e-01,  3.3807e-01, -6.8541e-01,  1.6904e-01,  2.9363e-02,\n",
       "         2.7762e-01,  6.6031e-01, -1.0999e-01,  5.7107e-01,  3.5791e-01,\n",
       "        -5.5296e-01, -2.2513e-01, -8.2172e-01, -1.3349e-01, -4.4832e-01,\n",
       "         3.8340e-01, -6.0517e-01,  3.3228e-02,  2.9442e-01, -6.6195e-02,\n",
       "        -1.2720e+00, -4.0393e-01,  5.0056e-01,  3.9426e-01, -5.6523e-02,\n",
       "         2.5995e-01, -2.1420e-01,  2.9080e-01,  5.8633e-01,  1.3334e-01,\n",
       "        -1.9222e-01,  5.0383e-01, -3.5723e-01, -5.1823e-02,  5.8159e-01,\n",
       "        -1.9952e-01,  3.5195e-02,  2.3484e-02,  4.8070e-01, -5.3720e-01,\n",
       "         1.1374e-01, -2.2536e-01, -3.1616e-01, -6.3675e-01,  7.3043e-01,\n",
       "        -1.1871e-01, -1.1477e-01,  2.7783e-01,  4.6785e-01,  6.7908e-01,\n",
       "         2.5705e-01,  9.1345e-01,  6.8821e-02,  1.9632e-01,  6.6648e-01,\n",
       "         4.6326e-01, -5.4534e-01,  6.1345e-01,  2.3867e-01,  3.3962e-01,\n",
       "        -9.1280e-01,  4.4144e-01,  1.4031e-01,  3.0062e-01, -1.3355e-01,\n",
       "        -2.6758e-01, -5.0734e-01, -7.5732e-01,  3.3520e-01, -4.8065e-01,\n",
       "         6.2879e-01, -2.1710e-01,  1.8626e-01,  5.8421e-02, -5.0013e-01,\n",
       "        -4.9742e-02,  1.0763e+00, -5.4194e-01, -1.3475e-01,  8.6094e-02,\n",
       "        -1.6039e-01, -1.2049e-01,  7.9346e-02,  2.1528e-01, -3.5539e-01,\n",
       "        -4.6640e-01,  1.4732e-01, -1.0216e+00,  2.7123e-01, -1.9213e-01,\n",
       "        -5.1449e-02, -4.2834e-01, -6.6767e-01,  9.7994e-01,  1.0038e-01,\n",
       "        -3.7302e-01, -6.5201e-01,  1.3281e+00,  7.0093e-01, -1.3861e-01,\n",
       "        -1.9108e-02, -6.9839e-03, -1.6383e-01,  1.1396e+00, -3.9260e-01,\n",
       "         4.3069e-01, -1.2128e-01,  3.5959e-01, -6.9457e-02,  6.9584e-02,\n",
       "        -2.9464e-01, -6.3786e-01,  2.8327e-01,  6.3840e-01, -7.0484e-03,\n",
       "         2.3698e-02, -4.4752e-01,  6.4890e-01, -1.7434e-01,  5.8768e-01,\n",
       "        -1.0249e+00,  2.5419e-01, -2.3634e-01,  9.0713e-01,  5.6298e-02,\n",
       "         1.0751e-01, -1.6299e-01,  5.3796e-01, -2.9397e-01,  3.3612e-01,\n",
       "         9.1971e-02, -2.9393e-01, -1.3470e-01,  3.7887e-01, -3.6352e-01,\n",
       "         8.8455e-01, -8.8628e-01, -6.1982e-01, -5.8769e-02,  1.3912e-01,\n",
       "        -5.3440e-01,  7.4081e-01,  1.8939e-01, -2.8589e-02,  2.7047e-01,\n",
       "         2.9873e-01, -1.5196e-01,  4.8473e-01])"
      ]
     },
     "execution_count": 15,
     "metadata": {},
     "output_type": "execute_result"
    }
   ],
   "source": [
    "corpus_embeddings[-1]"
   ]
  },
  {
   "cell_type": "code",
   "execution_count": 9,
   "metadata": {},
   "outputs": [
    {
     "data": {
      "text/plain": [
       "(26, 768)"
      ]
     },
     "execution_count": 9,
     "metadata": {},
     "output_type": "execute_result"
    }
   ],
   "source": [
    "corpus_embeddings.numpy().shape"
   ]
  },
  {
   "cell_type": "markdown",
   "metadata": {},
   "source": [
    "### Create a FAISS index"
   ]
  },
  {
   "cell_type": "code",
   "execution_count": 10,
   "metadata": {},
   "outputs": [],
   "source": [
    "# Create a flat Faiss index\n",
    "inner_index = faiss.IndexFlatIP(768) # the size of our vector space\n",
    "index = faiss.IndexIDMap(inner_index)\n",
    "\n",
    "index.add_with_ids(corpus_embeddings.numpy(), \n",
    "                   np.array(range(0, len(corpus))))\n",
    "\n",
    "# save the index for future use\n",
    "faiss.write_index(index, 'data/pandemics')"
   ]
  },
  {
   "cell_type": "markdown",
   "metadata": {},
   "source": [
    "### Search the documents"
   ]
  },
  {
   "cell_type": "code",
   "execution_count": 11,
   "metadata": {},
   "outputs": [],
   "source": [
    "# Build a search function that finds the most relevant search results\n",
    "def search(query, documents, k=5):\n",
    "    # the difference from milestone1 is the use of embedder which is SBERT instead of BERT\n",
    "    encoded_query = embedder.encode([query])\n",
    "    top_k = index.search(encoded_query, k)\n",
    "    scores = top_k[0][0]\n",
    "    results = [documents[_id] for _id in top_k[1][0]]\n",
    "    return list(zip(results, scores))\n",
    "    "
   ]
  },
  {
   "cell_type": "code",
   "execution_count": 12,
   "metadata": {},
   "outputs": [
    {
     "data": {
      "text/plain": [
       "(1, 768)"
      ]
     },
     "execution_count": 12,
     "metadata": {},
     "output_type": "execute_result"
    }
   ],
   "source": [
    "encoded_query = embedder.encode([\"spanish flu casualties\"])\n",
    "encoded_query.shape"
   ]
  },
  {
   "cell_type": "code",
   "execution_count": null,
   "metadata": {},
   "outputs": [],
   "source": [
    "top_k = index.search(encoded_query, 2)\n",
    "top_k"
   ]
  },
  {
   "cell_type": "code",
   "execution_count": null,
   "metadata": {},
   "outputs": [],
   "source": [
    "pprint(search(\"spanish flu casualties\", corpus, k=2))"
   ]
  },
  {
   "cell_type": "code",
   "execution_count": null,
   "metadata": {},
   "outputs": [],
   "source": []
  },
  {
   "cell_type": "code",
   "execution_count": null,
   "metadata": {},
   "outputs": [],
   "source": []
  }
 ],
 "metadata": {
  "kernelspec": {
   "display_name": "Python 3",
   "language": "python",
   "name": "python3"
  },
  "language_info": {
   "codemirror_mode": {
    "name": "ipython",
    "version": 3
   },
   "file_extension": ".py",
   "mimetype": "text/x-python",
   "name": "python",
   "nbconvert_exporter": "python",
   "pygments_lexer": "ipython3",
   "version": "3.8.12"
  }
 },
 "nbformat": 4,
 "nbformat_minor": 4
}
