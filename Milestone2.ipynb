{
 "cells": [
  {
   "cell_type": "code",
   "execution_count": 1,
   "metadata": {},
   "outputs": [
    {
     "name": "stdout",
     "output_type": "stream",
     "text": [
      "\u001b[33mDEPRECATION: Configuring installation scheme with distutils config files is deprecated and will no longer work in the near future. If you are using a Homebrew or Linuxbrew Python, please see discussion at https://github.com/Homebrew/homebrew-core/issues/76621\u001b[0m\n",
      "Requirement already satisfied: sentence-transformers in /usr/local/lib/python3.8/site-packages (2.2.0)\n",
      "Requirement already satisfied: scikit-learn in /usr/local/lib/python3.8/site-packages (from sentence-transformers) (1.0.2)\n",
      "Requirement already satisfied: numpy in /usr/local/lib/python3.8/site-packages (from sentence-transformers) (1.22.3)\n",
      "Requirement already satisfied: sentencepiece in /Users/jeff/Library/Python/3.8/lib/python/site-packages (from sentence-transformers) (0.1.91)\n",
      "Requirement already satisfied: scipy in /usr/local/lib/python3.8/site-packages (from sentence-transformers) (1.8.0)\n",
      "Requirement already satisfied: torchvision in /usr/local/lib/python3.8/site-packages (from sentence-transformers) (0.12.0)\n",
      "Requirement already satisfied: torch>=1.6.0 in /usr/local/lib/python3.8/site-packages (from sentence-transformers) (1.11.0)\n",
      "Requirement already satisfied: huggingface-hub in /usr/local/lib/python3.8/site-packages (from sentence-transformers) (0.4.0)\n",
      "Requirement already satisfied: nltk in /usr/local/lib/python3.8/site-packages (from sentence-transformers) (3.5)\n",
      "Requirement already satisfied: tqdm in /usr/local/lib/python3.8/site-packages (from sentence-transformers) (4.48.2)\n",
      "Requirement already satisfied: transformers<5.0.0,>=4.6.0 in /usr/local/lib/python3.8/site-packages (from sentence-transformers) (4.17.0)\n",
      "Requirement already satisfied: typing-extensions in /usr/local/lib/python3.8/site-packages (from torch>=1.6.0->sentence-transformers) (3.7.4.3)\n",
      "Requirement already satisfied: packaging>=20.0 in /usr/local/lib/python3.8/site-packages (from transformers<5.0.0,>=4.6.0->sentence-transformers) (21.3)\n",
      "Requirement already satisfied: filelock in /Users/jeff/Library/Python/3.8/lib/python/site-packages (from transformers<5.0.0,>=4.6.0->sentence-transformers) (3.0.12)\n",
      "Requirement already satisfied: tokenizers!=0.11.3,>=0.11.1 in /usr/local/lib/python3.8/site-packages (from transformers<5.0.0,>=4.6.0->sentence-transformers) (0.11.5)\n",
      "Requirement already satisfied: requests in /usr/local/lib/python3.8/site-packages (from transformers<5.0.0,>=4.6.0->sentence-transformers) (2.24.0)\n",
      "Requirement already satisfied: regex!=2019.12.17 in /usr/local/lib/python3.8/site-packages (from transformers<5.0.0,>=4.6.0->sentence-transformers) (2020.7.14)\n",
      "Requirement already satisfied: sacremoses in /Users/jeff/Library/Python/3.8/lib/python/site-packages (from transformers<5.0.0,>=4.6.0->sentence-transformers) (0.0.43)\n",
      "Requirement already satisfied: pyyaml>=5.1 in /usr/local/lib/python3.8/site-packages (from transformers<5.0.0,>=4.6.0->sentence-transformers) (5.3.1)\n",
      "Requirement already satisfied: pyparsing!=3.0.5,>=2.0.2 in /usr/local/lib/python3.8/site-packages (from packaging>=20.0->transformers<5.0.0,>=4.6.0->sentence-transformers) (2.4.7)\n",
      "Requirement already satisfied: joblib in /usr/local/lib/python3.8/site-packages (from nltk->sentence-transformers) (1.1.0)\n",
      "Requirement already satisfied: click in /usr/local/lib/python3.8/site-packages (from nltk->sentence-transformers) (7.1.2)\n",
      "Requirement already satisfied: chardet<4,>=3.0.2 in /usr/local/lib/python3.8/site-packages (from requests->transformers<5.0.0,>=4.6.0->sentence-transformers) (3.0.4)\n",
      "Requirement already satisfied: urllib3!=1.25.0,!=1.25.1,<1.26,>=1.21.1 in /usr/local/lib/python3.8/site-packages (from requests->transformers<5.0.0,>=4.6.0->sentence-transformers) (1.25.10)\n",
      "Requirement already satisfied: idna<3,>=2.5 in /usr/local/lib/python3.8/site-packages (from requests->transformers<5.0.0,>=4.6.0->sentence-transformers) (2.10)\n",
      "Requirement already satisfied: certifi>=2017.4.17 in /usr/local/lib/python3.8/site-packages (from requests->transformers<5.0.0,>=4.6.0->sentence-transformers) (2020.6.20)\n",
      "Requirement already satisfied: six in /usr/local/lib/python3.8/site-packages (from sacremoses->transformers<5.0.0,>=4.6.0->sentence-transformers) (1.15.0)\n",
      "Requirement already satisfied: threadpoolctl>=2.0.0 in /usr/local/lib/python3.8/site-packages (from scikit-learn->sentence-transformers) (3.1.0)\n",
      "Requirement already satisfied: pillow!=8.3.*,>=5.3.0 in /usr/local/lib/python3.8/site-packages (from torchvision->sentence-transformers) (6.2.2)\n",
      "\u001b[33mDEPRECATION: Configuring installation scheme with distutils config files is deprecated and will no longer work in the near future. If you are using a Homebrew or Linuxbrew Python, please see discussion at https://github.com/Homebrew/homebrew-core/issues/76621\u001b[0m\n",
      "\u001b[33mWARNING: You are using pip version 21.2.4; however, version 22.0.4 is available.\n",
      "You should consider upgrading via the '/usr/local/opt/python@3.8/bin/python3.8 -m pip install --upgrade pip' command.\u001b[0m\n"
     ]
    }
   ],
   "source": [
    "!pip install sentence-transformers"
   ]
  },
  {
   "cell_type": "code",
   "execution_count": 2,
   "metadata": {},
   "outputs": [
    {
     "name": "stderr",
     "output_type": "stream",
     "text": [
      "<frozen importlib._bootstrap>:219: RuntimeWarning: scipy._lib.messagestream.MessageStream size changed, may indicate binary incompatibility. Expected 56 from C header, got 64 from PyObject\n"
     ]
    }
   ],
   "source": [
    "# import dependencies\n",
    "import json\n",
    "import faiss\n",
    "import numpy as np\n",
    "from pprint import pprint\n",
    "from sentence_transformers import SentenceTransformer, util"
   ]
  },
  {
   "cell_type": "markdown",
   "metadata": {},
   "source": [
    "### Load data and preprocess"
   ]
  },
  {
   "cell_type": "code",
   "execution_count": 3,
   "metadata": {},
   "outputs": [],
   "source": [
    "# Load a transformers model\n",
    "embedder = SentenceTransformer('distilbert-base-nli-stsb-mean-tokens')"
   ]
  },
  {
   "cell_type": "code",
   "execution_count": 4,
   "metadata": {},
   "outputs": [
    {
     "data": {
      "text/plain": [
       "(1, 768)"
      ]
     },
     "execution_count": 4,
     "metadata": {},
     "output_type": "execute_result"
    }
   ],
   "source": [
    "x = embedder.encode(['spanish flu'])\n",
    "x.shape"
   ]
  },
  {
   "cell_type": "code",
   "execution_count": 5,
   "metadata": {},
   "outputs": [],
   "source": [
    "# Load documents from JSON file\n",
    "with open('data/data.json', 'r') as file:\n",
    "    documents = json.load(file)"
   ]
  },
  {
   "cell_type": "code",
   "execution_count": 6,
   "metadata": {},
   "outputs": [],
   "source": [
    "# Compute sentence embeddings for every text in the documents\n",
    "corpus = [d['text'] for d in documents]"
   ]
  },
  {
   "cell_type": "code",
   "execution_count": 7,
   "metadata": {},
   "outputs": [],
   "source": [
    "corpus_embeddings = embedder.encode(corpus, convert_to_tensor=True)"
   ]
  },
  {
   "cell_type": "code",
   "execution_count": 8,
   "metadata": {},
   "outputs": [],
   "source": [
    "## move the tensor data to CPU for the FAISS index to work\n",
    "corpus_embeddings = corpus_embeddings.cpu()"
   ]
  },
  {
   "cell_type": "code",
   "execution_count": 9,
   "metadata": {},
   "outputs": [
    {
     "data": {
      "text/plain": [
       "(26, 768)"
      ]
     },
     "execution_count": 9,
     "metadata": {},
     "output_type": "execute_result"
    }
   ],
   "source": [
    "corpus_embeddings.numpy().shape"
   ]
  },
  {
   "cell_type": "markdown",
   "metadata": {},
   "source": [
    "### Create a FAISS index"
   ]
  },
  {
   "cell_type": "code",
   "execution_count": 10,
   "metadata": {},
   "outputs": [],
   "source": [
    "# Create a flat Faiss index\n",
    "inner_index = faiss.IndexFlatIP(768) # the size of our vector space\n",
    "index = faiss.IndexIDMap(inner_index)\n",
    "\n",
    "index.add_with_ids(corpus_embeddings.numpy(), \n",
    "                   np.array(range(0, len(corpus))))\n",
    "\n",
    "# save the index for future use\n",
    "faiss.write_index(index, 'data/pandemics')"
   ]
  },
  {
   "cell_type": "markdown",
   "metadata": {},
   "source": [
    "### Search the documents"
   ]
  },
  {
   "cell_type": "code",
   "execution_count": 11,
   "metadata": {},
   "outputs": [],
   "source": [
    "# Build a search function that finds the most relevant search results\n",
    "def search(query, documents, k=5):\n",
    "    # the difference from milestone1 is the use of embedder which is SBERT instead of BERT\n",
    "    encoded_query = embedder.encode([query])\n",
    "    top_k = index.search(encoded_query, k)\n",
    "    scores = top_k[0][0]\n",
    "    results = [documents[_id] for _id in top_k[1][0]]\n",
    "    return list(zip(results, scores))"
   ]
  },
  {
   "cell_type": "code",
   "execution_count": 12,
   "metadata": {},
   "outputs": [
    {
     "data": {
      "text/plain": [
       "(1, 768)"
      ]
     },
     "execution_count": 12,
     "metadata": {},
     "output_type": "execute_result"
    }
   ],
   "source": [
    "encoded_query = embedder.encode([\"spanish flu casualties\"])\n",
    "encoded_query.shape"
   ]
  },
  {
   "cell_type": "code",
   "execution_count": 13,
   "metadata": {},
   "outputs": [
    {
     "data": {
      "text/plain": [
       "(array([[88.825806, 74.40703 ]], dtype=float32), array([[19, 21]]))"
      ]
     },
     "execution_count": 13,
     "metadata": {},
     "output_type": "execute_result"
    }
   ],
   "source": [
    "top_k = index.search(encoded_query, 2)\n",
    "top_k"
   ]
  },
  {
   "cell_type": "code",
   "execution_count": 14,
   "metadata": {},
   "outputs": [
    {
     "name": "stdout",
     "output_type": "stream",
     "text": [
      "[('The Spanish flu, also known as the 1918 flu pandemic, was an unusually '\n",
      "  'deadly influenza pandemic caused by the H1N1 influenza A virus. Lasting '\n",
      "  'from February 1918 to April 1920, it infected 500 million people – about a '\n",
      "  \"third of the world's population at the time – in four successive waves. The \"\n",
      "  'death toll is typically estimated to have been somewhere between 17 million '\n",
      "  'and 50 million, and possibly as high as 100 million, making it one of the '\n",
      "  'deadliest pandemics in human history.The first observations of illness and '\n",
      "  'mortality were documented in the United States (in Fort Riley, Haskell '\n",
      "  'County, Kansas as well as in New York City), France (Brest), Germany and '\n",
      "  'the United Kingdom. To maintain morale, World War I censors minimized these '\n",
      "  \"early reports. Newspapers were free to report the epidemic's effects in \"\n",
      "  'neutral Spain, such as the grave illness of King Alfonso XIII, and these '\n",
      "  'stories created a false impression of Spain as especially hard hit. This '\n",
      "  'gave rise to the name \"Spanish\" flu. Historical and epidemiological data '\n",
      "  \"are inadequate to identify with certainty the pandemic's geographic origin, \"\n",
      "  'with varying views as to its location.\\n'\n",
      "  'Most influenza outbreaks disproportionately kill the very young and the '\n",
      "  'very old, with a higher survival rate for those in between, but the Spanish '\n",
      "  'flu pandemic resulted in a higher-than-expected mortality rate for young '\n",
      "  'adults. Scientists offer several possible explanations for the high '\n",
      "  'mortality rate of the 1918 influenza pandemic. Some analyses have shown the '\n",
      "  'virus to be particularly deadly because it triggers a cytokine storm, which '\n",
      "  'ravages the stronger immune system of young adults. In contrast, a 2007 '\n",
      "  'analysis of medical journals from the period of the pandemic found that the '\n",
      "  'viral infection was no more aggressive than previous influenza strains. '\n",
      "  'Instead, malnourishment, overcrowded medical camps and hospitals, and poor '\n",
      "  'hygiene, all exacerbated by the recent war, promoted bacterial '\n",
      "  'superinfection. This superinfection killed most of the victims, typically '\n",
      "  'after a somewhat prolonged death bed.The 1918 Spanish flu was the first of '\n",
      "  'two pandemics caused by H1N1 influenza A virus; the second was the 2009 '\n",
      "  'swine flu pandemic.',\n",
      "  88.825806),\n",
      " ('Swine influenza is an infection caused by any one of several types of swine '\n",
      "  'influenza viruses. Swine influenza virus (SIV) or swine-origin influenza '\n",
      "  'virus (S-OIV) is any strain of the influenza family of viruses that is '\n",
      "  'endemic in pigs. As of 2009, the known SIV strains include influenza C and '\n",
      "  'the subtypes of  influenza A known as H1N1, H1N2, H2N1, H3N1, H3N2, and '\n",
      "  'H2N3.\\n'\n",
      "  'Swine influenza virus is common throughout pig populations worldwide. '\n",
      "  'Transmission of the virus from pigs to humans is not common and does not '\n",
      "  'always lead to human flu, often resulting only in the production of '\n",
      "  'antibodies in the blood. If transmission does cause human flu, it is called '\n",
      "  'zoonotic swine flu. People with regular exposure to pigs are at increased '\n",
      "  'risk of swine flu infection.\\n'\n",
      "  'Around the mid-20th century, identification of influenza subtypes became '\n",
      "  'possible, allowing accurate diagnosis of transmission to humans. Since '\n",
      "  'then, only 50 such transmissions have been confirmed. These strains of '\n",
      "  'swine flu rarely pass from human to human. Symptoms of zoonotic swine flu '\n",
      "  'in humans are similar to those of influenza and of influenza-like illness '\n",
      "  'in general, namely chills, fever, sore throat, muscle pains, severe '\n",
      "  'headache, coughing, weakness, shortness of breath, and general discomfort.\\n'\n",
      "  'It is estimated that in the 2009 flu pandemic 11–21% of the then global '\n",
      "  'population (of about 6.8 billion), or around 700 million to 1.4 billion '\n",
      "  'people, contracted the illness—more in absolute terms than the Spanish flu '\n",
      "  'pandemic. Actual fatalities ranged between 12,000 and 18,000. However, in a '\n",
      "  '2012 study, the CDC estimated more than 284,000 possible fatalities '\n",
      "  'worldwide, with range from 150,000 to 575,000.\\n'\n",
      "  'In August 2010, the World Health Organization declared the swine flu '\n",
      "  'pandemic officially over.Subsequent cases of swine flu were reported in '\n",
      "  'India in 2015, with over 31,156 positive test cases and 1,841 deaths up to '\n",
      "  'March 2015.',\n",
      "  74.40703)]\n"
     ]
    }
   ],
   "source": [
    "pprint(search(\"spanish flu casualties\", corpus, k=2))"
   ]
  },
  {
   "cell_type": "code",
   "execution_count": 15,
   "metadata": {},
   "outputs": [
    {
     "name": "stdout",
     "output_type": "stream",
     "text": [
      "[('Swine influenza is an infection caused by any one of several types of swine '\n",
      "  'influenza viruses. Swine influenza virus (SIV) or swine-origin influenza '\n",
      "  'virus (S-OIV) is any strain of the influenza family of viruses that is '\n",
      "  'endemic in pigs. As of 2009, the known SIV strains include influenza C and '\n",
      "  'the subtypes of  influenza A known as H1N1, H1N2, H2N1, H3N1, H3N2, and '\n",
      "  'H2N3.\\n'\n",
      "  'Swine influenza virus is common throughout pig populations worldwide. '\n",
      "  'Transmission of the virus from pigs to humans is not common and does not '\n",
      "  'always lead to human flu, often resulting only in the production of '\n",
      "  'antibodies in the blood. If transmission does cause human flu, it is called '\n",
      "  'zoonotic swine flu. People with regular exposure to pigs are at increased '\n",
      "  'risk of swine flu infection.\\n'\n",
      "  'Around the mid-20th century, identification of influenza subtypes became '\n",
      "  'possible, allowing accurate diagnosis of transmission to humans. Since '\n",
      "  'then, only 50 such transmissions have been confirmed. These strains of '\n",
      "  'swine flu rarely pass from human to human. Symptoms of zoonotic swine flu '\n",
      "  'in humans are similar to those of influenza and of influenza-like illness '\n",
      "  'in general, namely chills, fever, sore throat, muscle pains, severe '\n",
      "  'headache, coughing, weakness, shortness of breath, and general discomfort.\\n'\n",
      "  'It is estimated that in the 2009 flu pandemic 11–21% of the then global '\n",
      "  'population (of about 6.8 billion), or around 700 million to 1.4 billion '\n",
      "  'people, contracted the illness—more in absolute terms than the Spanish flu '\n",
      "  'pandemic. Actual fatalities ranged between 12,000 and 18,000. However, in a '\n",
      "  '2012 study, the CDC estimated more than 284,000 possible fatalities '\n",
      "  'worldwide, with range from 150,000 to 575,000.\\n'\n",
      "  'In August 2010, the World Health Organization declared the swine flu '\n",
      "  'pandemic officially over.Subsequent cases of swine flu were reported in '\n",
      "  'India in 2015, with over 31,156 positive test cases and 1,841 deaths up to '\n",
      "  'March 2015.',\n",
      "  123.43084),\n",
      " ('The pandemic severity index (PSI) was a proposed classification scale for '\n",
      "  'reporting the severity of influenza pandemics in the United States. The PSI '\n",
      "  'was accompanied by a set of guidelines intended to help communicate '\n",
      "  'appropriate actions for communities to follow in potential pandemic '\n",
      "  'situations. Released by the United States Department of Health and Human '\n",
      "  'Services (HHS) on February 1, 2007, the PSI was designed to resemble the '\n",
      "  'Saffir-Simpson Hurricane Scale classification scheme. The index was '\n",
      "  'replaced by the Pandemic Severity Assessment Framework in 2014, which uses '\n",
      "  'quadrants based on transmissibility and clinical severity rather than a '\n",
      "  'linear scale.',\n",
      "  105.7586)]\n"
     ]
    }
   ],
   "source": [
    "pprint(search(\"influenza subtypes\", corpus, k=2))"
   ]
  },
  {
   "cell_type": "code",
   "execution_count": null,
   "metadata": {},
   "outputs": [],
   "source": []
  }
 ],
 "metadata": {
  "kernelspec": {
   "display_name": "Python 3",
   "language": "python",
   "name": "python3"
  },
  "language_info": {
   "codemirror_mode": {
    "name": "ipython",
    "version": 3
   },
   "file_extension": ".py",
   "mimetype": "text/x-python",
   "name": "python",
   "nbconvert_exporter": "python",
   "pygments_lexer": "ipython3",
   "version": "3.8.12"
  }
 },
 "nbformat": 4,
 "nbformat_minor": 4
}
